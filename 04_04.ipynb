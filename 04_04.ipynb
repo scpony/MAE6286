{
 "cells": [
  {
   "cell_type": "code",
   "execution_count": 5,
   "metadata": {},
   "outputs": [],
   "source": [
    "import numpy\n",
    "from matplotlib import pyplot\n",
    "%matplotlib inline\n",
    "from scipy import linalg"
   ]
  },
  {
   "cell_type": "code",
   "execution_count": 14,
   "metadata": {},
   "outputs": [],
   "source": [
    "def btcs(T0,nt,dt,delta,alpha,Tb):\n",
    "    ny,nx=T0.shape\n",
    "    M,N=nx-2,ny-2\n",
    "    sigma=alpha*dt/delta**2\n",
    "    A=lhs_operator(M,N,sigma)\n",
    "    T=T0[1:-1,1:-1].flatten()\n",
    "    I,J=int(M/2),int(N/2)\n",
    "    for n in range(nt):\n",
    "        b=rhs_vector(T,M,N,sigma,Tb)\n",
    "        T=linalg.solve(A,b)\n",
    "        if T[J*M+I]>=70.0:\n",
    "            break\n",
    "    print('Time step:temperature at center is {} C'.\n",
    "         format(n,T[J*M+I]))\n",
    "    return map_1d_to_2d(T,nx,ny,Tb)"
   ]
  },
  {
   "cell_type": "code",
   "execution_count": 7,
   "metadata": {},
   "outputs": [],
   "source": [
    "def map_1d_to_2d(T1,nx,ny,Tb):\n",
    "    T=numpy.zeros((ny,nx))\n",
    "    T[1:-1,1:-1]=T1.reshape((ny-2,nx-2))\n",
    "    T[:,0]=Tb\n",
    "    T[0,:]=Tb\n",
    "    T[:,-1]=T[:,-2]\n",
    "    T[-1,:]=T[-2,:]\n",
    "    return T    "
   ]
  },
  {
   "cell_type": "code",
   "execution_count": 8,
   "metadata": {},
   "outputs": [],
   "source": [
    "def rhs_vector(T,M,N,sigma,Tb):\n",
    "    b=T/sigma\n",
    "    for j in range(M):\n",
    "        for i in range(M):\n",
    "            I=j*M+i\n",
    "            if i==0:\n",
    "                b[I]+=Tb\n",
    "            if j==0:\n",
    "                b[I]+=Tb\n",
    "            if i==M-1:\n",
    "                b[I]+=delta*q\n",
    "    return b"
   ]
  },
  {
   "cell_type": "code",
   "execution_count": 18,
   "metadata": {},
   "outputs": [],
   "source": [
    "def lhs_operator(M,N,sigma):\n",
    "    A=numpy.zeros((M*N,M*N))\n",
    "    for i in range(N):\n",
    "        for j in range(M):\n",
    "            I=j*M+i\n",
    "            IS=I-M\n",
    "            IW=I-1\n",
    "            IE=I+1\n",
    "            IN=I+M\n",
    "            if i==0 and j==0:\n",
    "                A[I,I]=1.0/sigma+4.0\n",
    "                A[I,IE]=-1.0\n",
    "                A[I,IN]=-1.0\n",
    "            elif i==0 and j==N-1:\n",
    "                A[I,I]=1.0/sigma+3.0\n",
    "                A[I,IS]=-1.0\n",
    "                A[I,IE]=-1.0\n",
    "            elif i==M-1 and j==0:\n",
    "                A[I,I]=1.0/sigma+3.0\n",
    "                A[I,IW]=-1.0\n",
    "                A[I,IN]=-1.0\n",
    "            elif i==M-1 and j==N-1:\n",
    "                A[I,I]=1.0/sigma+2.0\n",
    "                A[I,IS]=-1.0\n",
    "                A[I,IW]=-1.0\n",
    "            elif i==0:\n",
    "                A[I,I]=1.0/sigma+4.0\n",
    "                A[I,IS]=-1.0\n",
    "                A[I,IE]=-1.0\n",
    "                A[I,IN]=-1.0\n",
    "            elif j==0:\n",
    "                A[I,I]=1.0/sigma+4.0\n",
    "                A[I,IW]=-1.0\n",
    "                A[I,IE]=-1.0\n",
    "                A[I,IN]=-1.0\n",
    "            elif i==M-1:\n",
    "                A[I,I]=1.0/sigma+3.0\n",
    "                A[I,IS]=-1.0\n",
    "                A[I,IW]=-1.0\n",
    "                A[I,IN]=-1.0\n",
    "            elif j==N-1:\n",
    "                A[I,I]=1.0/sigma+3.0\n",
    "                A[I,IW]=-1.0\n",
    "                A[I,IE]=-1.0\n",
    "                A[I,IS]=-1.0                \n",
    "            else:\n",
    "                A[I,I]=1.0/sigma+4.0\n",
    "                A[I,IS]=-1.0\n",
    "                A[I,IW]=-1.0\n",
    "                A[I,IE]=-1.0\n",
    "                A[I,IN]=-1.0"
   ]
  },
  {
   "cell_type": "code",
   "execution_count": 19,
   "metadata": {},
   "outputs": [],
   "source": [
    "sigma=0.5\n",
    "dt=sigma/(alpha*(1/dx**2+1/dy**2))\n",
    "nt=500"
   ]
  },
  {
   "cell_type": "code",
   "execution_count": 20,
   "metadata": {},
   "outputs": [
    {
     "ename": "NameError",
     "evalue": "name 'delta' is not defined",
     "output_type": "error",
     "traceback": [
      "\u001b[0;31m---------------------------------------------------------------------------\u001b[0m",
      "\u001b[0;31mNameError\u001b[0m                                 Traceback (most recent call last)",
      "\u001b[0;32m<ipython-input-20-7068eaf4c073>\u001b[0m in \u001b[0;36m<module>\u001b[0;34m()\u001b[0m\n\u001b[0;32m----> 1\u001b[0;31m \u001b[0mT\u001b[0m\u001b[0;34m=\u001b[0m\u001b[0mbtcs\u001b[0m\u001b[0;34m(\u001b[0m\u001b[0mT0\u001b[0m\u001b[0;34m,\u001b[0m\u001b[0mnt\u001b[0m\u001b[0;34m,\u001b[0m\u001b[0mdt\u001b[0m\u001b[0;34m,\u001b[0m\u001b[0mdx\u001b[0m\u001b[0;34m,\u001b[0m\u001b[0malpha\u001b[0m\u001b[0;34m,\u001b[0m\u001b[0;36m100\u001b[0m\u001b[0;34m)\u001b[0m\u001b[0;34m\u001b[0m\u001b[0m\n\u001b[0m",
      "\u001b[0;32m<ipython-input-14-5600044a7a35>\u001b[0m in \u001b[0;36mbtcs\u001b[0;34m(T0, nt, dt, delta, alpha, Tb)\u001b[0m\n\u001b[1;32m      7\u001b[0m     \u001b[0mI\u001b[0m\u001b[0;34m,\u001b[0m\u001b[0mJ\u001b[0m\u001b[0;34m=\u001b[0m\u001b[0mint\u001b[0m\u001b[0;34m(\u001b[0m\u001b[0mM\u001b[0m\u001b[0;34m/\u001b[0m\u001b[0;36m2\u001b[0m\u001b[0;34m)\u001b[0m\u001b[0;34m,\u001b[0m\u001b[0mint\u001b[0m\u001b[0;34m(\u001b[0m\u001b[0mN\u001b[0m\u001b[0;34m/\u001b[0m\u001b[0;36m2\u001b[0m\u001b[0;34m)\u001b[0m\u001b[0;34m\u001b[0m\u001b[0m\n\u001b[1;32m      8\u001b[0m     \u001b[0;32mfor\u001b[0m \u001b[0mn\u001b[0m \u001b[0;32min\u001b[0m \u001b[0mrange\u001b[0m\u001b[0;34m(\u001b[0m\u001b[0mnt\u001b[0m\u001b[0;34m)\u001b[0m\u001b[0;34m:\u001b[0m\u001b[0;34m\u001b[0m\u001b[0m\n\u001b[0;32m----> 9\u001b[0;31m         \u001b[0mb\u001b[0m\u001b[0;34m=\u001b[0m\u001b[0mrhs_vector\u001b[0m\u001b[0;34m(\u001b[0m\u001b[0mT\u001b[0m\u001b[0;34m,\u001b[0m\u001b[0mM\u001b[0m\u001b[0;34m,\u001b[0m\u001b[0mN\u001b[0m\u001b[0;34m,\u001b[0m\u001b[0msigma\u001b[0m\u001b[0;34m,\u001b[0m\u001b[0mTb\u001b[0m\u001b[0;34m)\u001b[0m\u001b[0;34m\u001b[0m\u001b[0m\n\u001b[0m\u001b[1;32m     10\u001b[0m         \u001b[0mT\u001b[0m\u001b[0;34m=\u001b[0m\u001b[0mlinalg\u001b[0m\u001b[0;34m.\u001b[0m\u001b[0msolve\u001b[0m\u001b[0;34m(\u001b[0m\u001b[0mA\u001b[0m\u001b[0;34m,\u001b[0m\u001b[0mb\u001b[0m\u001b[0;34m)\u001b[0m\u001b[0;34m\u001b[0m\u001b[0m\n\u001b[1;32m     11\u001b[0m         \u001b[0;32mif\u001b[0m \u001b[0mT\u001b[0m\u001b[0;34m[\u001b[0m\u001b[0mJ\u001b[0m\u001b[0;34m*\u001b[0m\u001b[0mM\u001b[0m\u001b[0;34m+\u001b[0m\u001b[0mI\u001b[0m\u001b[0;34m]\u001b[0m\u001b[0;34m>=\u001b[0m\u001b[0;36m70.0\u001b[0m\u001b[0;34m:\u001b[0m\u001b[0;34m\u001b[0m\u001b[0m\n",
      "\u001b[0;32m<ipython-input-8-eb0aa646bb8d>\u001b[0m in \u001b[0;36mrhs_vector\u001b[0;34m(T, M, N, sigma, Tb)\u001b[0m\n\u001b[1;32m      9\u001b[0m                 \u001b[0mb\u001b[0m\u001b[0;34m[\u001b[0m\u001b[0mI\u001b[0m\u001b[0;34m]\u001b[0m\u001b[0;34m+=\u001b[0m\u001b[0mTb\u001b[0m\u001b[0;34m\u001b[0m\u001b[0m\n\u001b[1;32m     10\u001b[0m             \u001b[0;32mif\u001b[0m \u001b[0mi\u001b[0m\u001b[0;34m==\u001b[0m\u001b[0mM\u001b[0m\u001b[0;34m-\u001b[0m\u001b[0;36m1\u001b[0m\u001b[0;34m:\u001b[0m\u001b[0;34m\u001b[0m\u001b[0m\n\u001b[0;32m---> 11\u001b[0;31m                 \u001b[0mb\u001b[0m\u001b[0;34m[\u001b[0m\u001b[0mI\u001b[0m\u001b[0;34m]\u001b[0m\u001b[0;34m+=\u001b[0m\u001b[0mdelta\u001b[0m\u001b[0;34m*\u001b[0m\u001b[0mq\u001b[0m\u001b[0;34m\u001b[0m\u001b[0m\n\u001b[0m\u001b[1;32m     12\u001b[0m     \u001b[0;32mreturn\u001b[0m \u001b[0mb\u001b[0m\u001b[0;34m\u001b[0m\u001b[0m\n",
      "\u001b[0;31mNameError\u001b[0m: name 'delta' is not defined"
     ]
    }
   ],
   "source": [
    "T=btcs(T0,nt,dt,dx,alpha,100)"
   ]
  },
  {
   "cell_type": "code",
   "execution_count": 15,
   "metadata": {},
   "outputs": [],
   "source": [
    "#set parameters\n",
    "Lx=0.01\n",
    "Ly=0.01\n",
    "nx=21\n",
    "ny=21\n",
    "dx=Lx/(nx-1)\n",
    "dy=Ly/(ny-1)\n",
    "alpha=1e-4\n",
    "x=numpy.linspace(0.0,Lx,num=nx)\n",
    "y=numpy.linspace(0.0,Ly,num=ny)\n",
    "#initial conditions\n",
    "T0=20.0*numpy.ones((ny,nx))\n",
    "T0[0,:]=100.0\n",
    "T0[:,0]=0.0"
   ]
  },
  {
   "cell_type": "code",
   "execution_count": null,
   "metadata": {},
   "outputs": [],
   "source": []
  }
 ],
 "metadata": {
  "kernelspec": {
   "display_name": "Python 3",
   "language": "python",
   "name": "python3"
  },
  "language_info": {
   "codemirror_mode": {
    "name": "ipython",
    "version": 3
   },
   "file_extension": ".py",
   "mimetype": "text/x-python",
   "name": "python",
   "nbconvert_exporter": "python",
   "pygments_lexer": "ipython3",
   "version": "3.6.2"
  }
 },
 "nbformat": 4,
 "nbformat_minor": 2
}
