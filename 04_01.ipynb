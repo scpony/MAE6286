{
 "cells": [
  {
   "cell_type": "code",
   "execution_count": 1,
   "metadata": {},
   "outputs": [],
   "source": [
    "import numpy\n",
    "from matplotlib import pyplot\n",
    "%matplotlib inline"
   ]
  },
  {
   "cell_type": "code",
   "execution_count": 2,
   "metadata": {},
   "outputs": [],
   "source": [
    "pyplot.rcParams['font.size']=14"
   ]
  },
  {
   "cell_type": "code",
   "execution_count": 4,
   "metadata": {},
   "outputs": [],
   "source": [
    "L=1.0\n",
    "nx=61\n",
    "dx=L/(nx-1)\n",
    "alpha=1.22e-3\n",
    "x=numpy.linspace(0.0,L,num=nx)\n",
    "T0=numpy.zeros(nx)\n",
    "T0[0]=100.0"
   ]
  },
  {
   "cell_type": "code",
   "execution_count": 7,
   "metadata": {},
   "outputs": [],
   "source": [
    "def ftcs(T0,nt,dt,dx,alpha):\n",
    "    T=T0.copy()\n",
    "    sigma=alpha*dt/dx**2\n",
    "    for n in range(nt):\n",
    "        T[1:-1]=T[1:-1]+sigma*(T[:-2]-2*T[1:-1]+T[2:])\n",
    "        return T"
   ]
  },
  {
   "cell_type": "code",
   "execution_count": 8,
   "metadata": {},
   "outputs": [],
   "source": [
    "nt=100\n",
    "sigma=0.5\n",
    "dt=sigma*dx**2/alpha\n",
    "T=ftcs(T0,nt,dt,dx,alpha)"
   ]
  },
  {
   "cell_type": "code",
   "execution_count": 11,
   "metadata": {},
   "outputs": [],
   "source": [
    "def ftcs_mixed_bcs(T0,nt,dt,dx,alpha):\n",
    "    T=T0.copy()\n",
    "    sigma=alpha*dt/dx**2\n",
    "    for n in range(nt):\n",
    "        T[1:-1]=T[1:-1]+sigma*(T[:-2]-2*T[1:-1]+T[2:])\n",
    "        T[-1]=T[-2]\n",
    "    return T"
   ]
  },
  {
   "cell_type": "code",
   "execution_count": 12,
   "metadata": {},
   "outputs": [],
   "source": [
    "nt=100\n",
    "sigma=0.5\n",
    "dt=sigma*dx**2\n",
    "T=ftcs_mixed_bcs(T0,nt,dt,dx,alpha)"
   ]
  },
  {
   "cell_type": "code",
   "execution_count": 15,
   "metadata": {},
   "outputs": [
    {
     "data": {
      "text/plain": [
       "[<matplotlib.lines.Line2D at 0x7f2f59d3ba58>]"
      ]
     },
     "execution_count": 15,
     "metadata": {},
     "output_type": "execute_result"
    },
    {
     "data": {
      "image/png": "[encoded data removed]",
      "text/plain": [
       "<Figure size 432x288 with 1 Axes>"
      ]
     },
     "metadata": {},
     "output_type": "display_data"
    }
   ],
   "source": [
    "pyplot.plot(T,x)"
   ]
  },
  {
   "cell_type": "code",
   "execution_count": null,
   "metadata": {},
   "outputs": [],
   "source": []
  }
 ],
 "metadata": {
  "kernelspec": {
   "display_name": "Python 3",
   "language": "python",
   "name": "python3"
  },
  "language_info": {
   "codemirror_mode": {
    "name": "ipython",
    "version": 3
   },
   "file_extension": ".py",
   "mimetype": "text/x-python",
   "name": "python",
   "nbconvert_exporter": "python",
   "pygments_lexer": "ipython3",
   "version": "3.6.2"
  }
 },
 "nbformat": 4,
 "nbformat_minor": 2
}
